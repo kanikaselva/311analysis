{
 "cells": [
  {
   "cell_type": "markdown",
   "metadata": {},
   "source": [
    "#### Clean Data"
   ]
  },
  {
   "cell_type": "code",
   "execution_count": 29,
   "metadata": {},
   "outputs": [],
   "source": [
    "import pandas as pd\n",
    "import numpy as np\n",
    "import seaborn as sns\n",
    "%matplotlib inline \n",
    "import matplotlib.pyplot as plt\n",
    "import plotly.express as px\n",
    "import sklearn"
   ]
  },
  {
   "cell_type": "code",
   "execution_count": 30,
   "metadata": {},
   "outputs": [
    {
     "data": {
      "text/plain": [
       "(387218, 29)"
      ]
     },
     "execution_count": 30,
     "metadata": {},
     "output_type": "execute_result"
    }
   ],
   "source": [
    "filtered_data = pd.read_csv(\"../Data/Filtered_311_Dataset.csv\")\n",
    "filtered_data.shape"
   ]
  },
  {
   "cell_type": "markdown",
   "metadata": {},
   "source": [
    "### Drop Columns that are redundant (not focus of the project)"
   ]
  },
  {
   "cell_type": "code",
   "execution_count": null,
   "metadata": {},
   "outputs": [
    {
     "data": {
      "text/plain": [
       "(387218, 16)"
      ]
     },
     "execution_count": 31,
     "metadata": {},
     "output_type": "execute_result"
    }
   ],
   "source": [
    "drop_col_data = filtered_data.drop(columns=['create_date_utc', 'last_action_utc', 'closed_date_utc', 'cross_street', 'street', 'street_id', 'cross_street_id', 'latitude', 'longitude', 'geo_accuracy', 'request_type_id'])\n",
    "drop_col_data.shape"
   ]
  },
  {
   "cell_type": "code",
   "execution_count": 32,
   "metadata": {},
   "outputs": [
    {
     "data": {
      "text/plain": [
       "(365567, 16)"
      ]
     },
     "execution_count": 32,
     "metadata": {},
     "output_type": "execute_result"
    }
   ],
   "source": [
    "cleaned_data = drop_col_data.dropna(subset=['neighborhood'])\n",
    "cleaned_data.shape"
   ]
  },
  {
   "cell_type": "code",
   "execution_count": 33,
   "metadata": {},
   "outputs": [
    {
     "data": {
      "text/plain": [
       "num_requests              0\n",
       "parent_closed             0\n",
       "status_name               0\n",
       "status_code               0\n",
       "dept                   2476\n",
       "request_type_name         0\n",
       "create_date_et            0\n",
       "last_action_et            0\n",
       "closed_date_et        53564\n",
       "origin                    0\n",
       "city                      0\n",
       "neighborhood              0\n",
       "census_tract         131667\n",
       "council_district         75\n",
       "ward                     26\n",
       "police_zone              50\n",
       "dtype: int64"
      ]
     },
     "execution_count": 33,
     "metadata": {},
     "output_type": "execute_result"
    }
   ],
   "source": [
    "cleaned_data.isnull().sum()"
   ]
  },
  {
   "cell_type": "code",
   "execution_count": 34,
   "metadata": {},
   "outputs": [
    {
     "name": "stdout",
     "output_type": "stream",
     "text": [
      "<class 'pandas.core.frame.DataFrame'>\n",
      "Index: 365567 entries, 91 to 387217\n",
      "Data columns (total 16 columns):\n",
      " #   Column             Non-Null Count   Dtype  \n",
      "---  ------             --------------   -----  \n",
      " 0   num_requests       365567 non-null  int64  \n",
      " 1   parent_closed      365567 non-null  object \n",
      " 2   status_name        365567 non-null  object \n",
      " 3   status_code        365567 non-null  int64  \n",
      " 4   dept               363091 non-null  object \n",
      " 5   request_type_name  365567 non-null  object \n",
      " 6   create_date_et     365567 non-null  object \n",
      " 7   last_action_et     365567 non-null  object \n",
      " 8   closed_date_et     312003 non-null  object \n",
      " 9   origin             365567 non-null  object \n",
      " 10  city               365567 non-null  object \n",
      " 11  neighborhood       365567 non-null  object \n",
      " 12  census_tract       233900 non-null  float64\n",
      " 13  council_district   365492 non-null  float64\n",
      " 14  ward               365541 non-null  float64\n",
      " 15  police_zone        365517 non-null  float64\n",
      "dtypes: float64(4), int64(2), object(10)\n",
      "memory usage: 47.4+ MB\n"
     ]
    }
   ],
   "source": [
    "cleaned_data.info()"
   ]
  },
  {
   "cell_type": "code",
   "execution_count": 35,
   "metadata": {},
   "outputs": [],
   "source": [
    "cleaned_data_encoded = pd.get_dummies(cleaned_data, drop_first=True, sparse=True)"
   ]
  },
  {
   "cell_type": "code",
   "execution_count": 36,
   "metadata": {},
   "outputs": [
    {
     "data": {
      "text/plain": [
       "(365567, 645323)"
      ]
     },
     "execution_count": 36,
     "metadata": {},
     "output_type": "execute_result"
    }
   ],
   "source": [
    "cleaned_data_encoded.shape"
   ]
  },
  {
   "cell_type": "markdown",
   "metadata": {},
   "source": [
    "### Checking for Sparse Columns"
   ]
  },
  {
   "cell_type": "code",
   "execution_count": 37,
   "metadata": {},
   "outputs": [],
   "source": [
    "# from numpy import arange\n",
    "# import altair as alt\n",
    "\n",
    "# data = cleaned_data_encoded.values\n",
    "# X = data[:, :-1]\n",
    "# y = data[:, -1]\n",
    "\n",
    "# print(X.shape, y.shape)\n",
    "\n",
    "# thresholds = arange(0.0, 0.55, 0.05)\n",
    "\n",
    "# results = []\n",
    "# for t in thresholds:\n",
    "    \n",
    "#     vt = VarianceThreshold(threshold=t)\n",
    "    \n",
    "#     X_sel = vt.fit_transform(X)\n",
    "#     rows, cols = X_sel.shape\n",
    "#     n_features = cols\n",
    "#     print('Threshold=%.2f, Features=%d' % (t, n_features))\n",
    "    \n",
    "#     results.append(n_features)\n",
    "    \n",
    "# d2 = pd.DataFrame({'threshold': thresholds, 'n_features': results})\n",
    "# alt.Chart(d2).mark_line().encode(\n",
    "#     x='threshold',\n",
    "#     y='n_features')"
   ]
  },
  {
   "cell_type": "code",
   "execution_count": 38,
   "metadata": {},
   "outputs": [],
   "source": [
    "cleaned_data.to_csv(\"../Data/CleanedData_311_Dataset.csv\", index=False)"
   ]
  }
 ],
 "metadata": {
  "kernelspec": {
   "display_name": "new",
   "language": "python",
   "name": "python3"
  },
  "language_info": {
   "codemirror_mode": {
    "name": "ipython",
    "version": 3
   },
   "file_extension": ".py",
   "mimetype": "text/x-python",
   "name": "python",
   "nbconvert_exporter": "python",
   "pygments_lexer": "ipython3",
   "version": "3.12.8"
  }
 },
 "nbformat": 4,
 "nbformat_minor": 2
}
