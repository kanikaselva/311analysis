{
 "cells": [
  {
   "cell_type": "markdown",
   "metadata": {},
   "source": [
    "### Forecasting the Number of Future Service Requests"
   ]
  },
  {
   "cell_type": "markdown",
   "metadata": {},
   "source": [
    "As requests vary seasonally, we plan to analyze past data on the frequency and types of requests in previous years or months to identify recurring patterns or anomalies. These forecasts will enable municipalities and service departments to anticipate periods of higher demand and plan accordingly. The outcome variable used would be the number of future service requests in a specific time frame, categorised by request type and origin"
   ]
  },
  {
   "cell_type": "markdown",
   "metadata": {},
   "source": [
    "### Import Libraries"
   ]
  },
  {
   "cell_type": "code",
   "execution_count": 275,
   "metadata": {},
   "outputs": [],
   "source": [
    "import pandas as pd\n",
    "import numpy as np\n",
    "import seaborn as sns\n",
    "%matplotlib inline \n",
    "import matplotlib.pyplot as plt\n",
    "import plotly.express as px\n",
    "import sklearn\n",
    "import statsmodels\n",
    "from sklearn.pipeline import make_pipeline\n",
    "from sklearn.metrics import mean_squared_error\n",
    "from sklearn.model_selection import cross_val_score"
   ]
  },
  {
   "cell_type": "code",
   "execution_count": 276,
   "metadata": {},
   "outputs": [
    {
     "data": {
      "text/plain": [
       "(365567, 16)"
      ]
     },
     "execution_count": 276,
     "metadata": {},
     "output_type": "execute_result"
    }
   ],
   "source": [
    "clean_data = pd.read_csv(\"../Data/CleanedData_311_Dataset.csv\")\n",
    "clean_data.shape"
   ]
  },
  {
   "cell_type": "code",
   "execution_count": 277,
   "metadata": {},
   "outputs": [
    {
     "data": {
      "text/plain": [
       "Index(['num_requests', 'parent_closed', 'status_name', 'status_code', 'dept',\n",
       "       'request_type_name', 'create_date_et', 'last_action_et',\n",
       "       'closed_date_et', 'origin', 'city', 'neighborhood', 'census_tract',\n",
       "       'council_district', 'ward', 'police_zone'],\n",
       "      dtype='object')"
      ]
     },
     "execution_count": 277,
     "metadata": {},
     "output_type": "execute_result"
    }
   ],
   "source": [
    "clean_data.columns"
   ]
  },
  {
   "cell_type": "code",
   "execution_count": 278,
   "metadata": {},
   "outputs": [
    {
     "data": {
      "text/html": [
       "<div>\n",
       "<style scoped>\n",
       "    .dataframe tbody tr th:only-of-type {\n",
       "        vertical-align: middle;\n",
       "    }\n",
       "\n",
       "    .dataframe tbody tr th {\n",
       "        vertical-align: top;\n",
       "    }\n",
       "\n",
       "    .dataframe thead th {\n",
       "        text-align: right;\n",
       "    }\n",
       "</style>\n",
       "<table border=\"1\" class=\"dataframe\">\n",
       "  <thead>\n",
       "    <tr style=\"text-align: right;\">\n",
       "      <th></th>\n",
       "      <th>num_requests</th>\n",
       "      <th>parent_closed</th>\n",
       "      <th>status_name</th>\n",
       "      <th>status_code</th>\n",
       "      <th>dept</th>\n",
       "      <th>request_type_name</th>\n",
       "      <th>create_date_et</th>\n",
       "      <th>last_action_et</th>\n",
       "      <th>closed_date_et</th>\n",
       "      <th>origin</th>\n",
       "      <th>city</th>\n",
       "      <th>neighborhood</th>\n",
       "      <th>census_tract</th>\n",
       "      <th>council_district</th>\n",
       "      <th>ward</th>\n",
       "      <th>police_zone</th>\n",
       "    </tr>\n",
       "  </thead>\n",
       "  <tbody>\n",
       "    <tr>\n",
       "      <th>0</th>\n",
       "      <td>1</td>\n",
       "      <td>f</td>\n",
       "      <td>open</td>\n",
       "      <td>0</td>\n",
       "      <td>Police - Zones 1-6</td>\n",
       "      <td>Excessive Noise/Disturbances</td>\n",
       "      <td>2022-04-24T09:56:00</td>\n",
       "      <td>2022-04-24T09:56:00</td>\n",
       "      <td>NaN</td>\n",
       "      <td>Website</td>\n",
       "      <td>Pittsburgh</td>\n",
       "      <td>Central Business District</td>\n",
       "      <td>4.200302e+10</td>\n",
       "      <td>6.0</td>\n",
       "      <td>2.0</td>\n",
       "      <td>2.0</td>\n",
       "    </tr>\n",
       "    <tr>\n",
       "      <th>1</th>\n",
       "      <td>1</td>\n",
       "      <td>f</td>\n",
       "      <td>in progress</td>\n",
       "      <td>3</td>\n",
       "      <td>DPW - Park Maintenance</td>\n",
       "      <td>Field</td>\n",
       "      <td>2021-10-31T09:13:00</td>\n",
       "      <td>2021-11-30T09:21:00</td>\n",
       "      <td>NaN</td>\n",
       "      <td>Website</td>\n",
       "      <td>Pittsburgh</td>\n",
       "      <td>Highland Park</td>\n",
       "      <td>4.200398e+10</td>\n",
       "      <td>7.0</td>\n",
       "      <td>11.0</td>\n",
       "      <td>5.0</td>\n",
       "    </tr>\n",
       "    <tr>\n",
       "      <th>2</th>\n",
       "      <td>1</td>\n",
       "      <td>f</td>\n",
       "      <td>open</td>\n",
       "      <td>0</td>\n",
       "      <td>Police - AVU</td>\n",
       "      <td>Abandoned Vehicle (parked on street)</td>\n",
       "      <td>2022-04-01T07:33:00</td>\n",
       "      <td>2022-04-01T07:33:00</td>\n",
       "      <td>NaN</td>\n",
       "      <td>Website</td>\n",
       "      <td>Pittsburgh</td>\n",
       "      <td>Highland Park</td>\n",
       "      <td>4.200398e+10</td>\n",
       "      <td>7.0</td>\n",
       "      <td>11.0</td>\n",
       "      <td>5.0</td>\n",
       "    </tr>\n",
       "    <tr>\n",
       "      <th>3</th>\n",
       "      <td>1</td>\n",
       "      <td>f</td>\n",
       "      <td>open</td>\n",
       "      <td>0</td>\n",
       "      <td>Police - Zones 1-6</td>\n",
       "      <td>Excessive Noise/Disturbances</td>\n",
       "      <td>2022-06-05T14:43:00</td>\n",
       "      <td>2022-06-05T14:43:00</td>\n",
       "      <td>NaN</td>\n",
       "      <td>Website</td>\n",
       "      <td>Pittsburgh</td>\n",
       "      <td>Highland Park</td>\n",
       "      <td>4.200398e+10</td>\n",
       "      <td>7.0</td>\n",
       "      <td>11.0</td>\n",
       "      <td>5.0</td>\n",
       "    </tr>\n",
       "    <tr>\n",
       "      <th>4</th>\n",
       "      <td>1</td>\n",
       "      <td>f</td>\n",
       "      <td>open</td>\n",
       "      <td>0</td>\n",
       "      <td>DOMI - Traffic</td>\n",
       "      <td>Pavement Marking, New</td>\n",
       "      <td>2021-09-30T11:42:00</td>\n",
       "      <td>2021-09-30T11:42:00</td>\n",
       "      <td>NaN</td>\n",
       "      <td>Website</td>\n",
       "      <td>Pittsburgh</td>\n",
       "      <td>Perry South</td>\n",
       "      <td>4.200326e+10</td>\n",
       "      <td>6.0</td>\n",
       "      <td>26.0</td>\n",
       "      <td>1.0</td>\n",
       "    </tr>\n",
       "  </tbody>\n",
       "</table>\n",
       "</div>"
      ],
      "text/plain": [
       "   num_requests parent_closed  status_name  status_code  \\\n",
       "0             1             f         open            0   \n",
       "1             1             f  in progress            3   \n",
       "2             1             f         open            0   \n",
       "3             1             f         open            0   \n",
       "4             1             f         open            0   \n",
       "\n",
       "                     dept                     request_type_name  \\\n",
       "0      Police - Zones 1-6          Excessive Noise/Disturbances   \n",
       "1  DPW - Park Maintenance                                 Field   \n",
       "2            Police - AVU  Abandoned Vehicle (parked on street)   \n",
       "3      Police - Zones 1-6          Excessive Noise/Disturbances   \n",
       "4          DOMI - Traffic                 Pavement Marking, New   \n",
       "\n",
       "        create_date_et       last_action_et closed_date_et   origin  \\\n",
       "0  2022-04-24T09:56:00  2022-04-24T09:56:00            NaN  Website   \n",
       "1  2021-10-31T09:13:00  2021-11-30T09:21:00            NaN  Website   \n",
       "2  2022-04-01T07:33:00  2022-04-01T07:33:00            NaN  Website   \n",
       "3  2022-06-05T14:43:00  2022-06-05T14:43:00            NaN  Website   \n",
       "4  2021-09-30T11:42:00  2021-09-30T11:42:00            NaN  Website   \n",
       "\n",
       "         city               neighborhood  census_tract  council_district  \\\n",
       "0  Pittsburgh  Central Business District  4.200302e+10               6.0   \n",
       "1  Pittsburgh              Highland Park  4.200398e+10               7.0   \n",
       "2  Pittsburgh              Highland Park  4.200398e+10               7.0   \n",
       "3  Pittsburgh              Highland Park  4.200398e+10               7.0   \n",
       "4  Pittsburgh                Perry South  4.200326e+10               6.0   \n",
       "\n",
       "   ward  police_zone  \n",
       "0   2.0          2.0  \n",
       "1  11.0          5.0  \n",
       "2  11.0          5.0  \n",
       "3  11.0          5.0  \n",
       "4  26.0          1.0  "
      ]
     },
     "execution_count": 278,
     "metadata": {},
     "output_type": "execute_result"
    }
   ],
   "source": [
    "clean_data.head()"
   ]
  },
  {
   "cell_type": "code",
   "execution_count": 279,
   "metadata": {},
   "outputs": [],
   "source": [
    "# Convert date columns to DateTime format\n",
    "clean_data['create_date_et'] = pd.to_datetime(clean_data['create_date_et'])\n",
    "clean_data['last_action_et'] = pd.to_datetime(clean_data['last_action_et'])\n",
    "clean_data['closed_date_et'] = pd.to_datetime(clean_data['closed_date_et'])"
   ]
  },
  {
   "cell_type": "markdown",
   "metadata": {},
   "source": [
    "### Creating Season Column\n",
    "\n",
    "Winter: December, January, February \n",
    "Spring: March, April, May \n",
    "Summer: June, July, August\n",
    "Fall: September, October, November"
   ]
  },
  {
   "cell_type": "code",
   "execution_count": 280,
   "metadata": {},
   "outputs": [
    {
     "data": {
      "text/plain": [
       "season\n",
       "Summer    110106\n",
       "Spring     88781\n",
       "Winter     87522\n",
       "Fall       79158\n",
       "Name: count, dtype: int64"
      ]
     },
     "execution_count": 280,
     "metadata": {},
     "output_type": "execute_result"
    }
   ],
   "source": [
    "# Extract the month from 'create_date_et'\n",
    "clean_data['month'] = clean_data['create_date_et'].dt.month\n",
    "\n",
    "# Function to categorize the month into seasons\n",
    "def get_season(month):\n",
    "    if month in [12, 1, 2]:\n",
    "        return 'Winter'\n",
    "    elif month in [3, 4, 5]:\n",
    "        return 'Spring'\n",
    "    elif month in [6, 7, 8]:\n",
    "        return 'Summer'\n",
    "    elif month in [9, 10, 11]:\n",
    "        return 'Fall'\n",
    "\n",
    "# Create the 'season' column based on the month\n",
    "clean_data['season'] = clean_data['month'].apply(get_season)\n",
    "\n",
    "clean_data['season'].value_counts()"
   ]
  },
  {
   "cell_type": "markdown",
   "metadata": {},
   "source": [
    "#### Data Aggregation (by Seasons and Neighborbood)"
   ]
  },
  {
   "cell_type": "code",
   "execution_count": 281,
   "metadata": {},
   "outputs": [
    {
     "data": {
      "text/html": [
       "<div>\n",
       "<style scoped>\n",
       "    .dataframe tbody tr th:only-of-type {\n",
       "        vertical-align: middle;\n",
       "    }\n",
       "\n",
       "    .dataframe tbody tr th {\n",
       "        vertical-align: top;\n",
       "    }\n",
       "\n",
       "    .dataframe thead th {\n",
       "        text-align: right;\n",
       "    }\n",
       "</style>\n",
       "<table border=\"1\" class=\"dataframe\">\n",
       "  <thead>\n",
       "    <tr style=\"text-align: right;\">\n",
       "      <th></th>\n",
       "      <th>season</th>\n",
       "      <th>neighborhood</th>\n",
       "      <th>request_type_name</th>\n",
       "      <th>origin</th>\n",
       "      <th>request_count</th>\n",
       "    </tr>\n",
       "  </thead>\n",
       "  <tbody>\n",
       "    <tr>\n",
       "      <th>0</th>\n",
       "      <td>Fall</td>\n",
       "      <td>Allegheny Center</td>\n",
       "      <td>Abandoned Vehicle (parked on street)</td>\n",
       "      <td>Call Center</td>\n",
       "      <td>6</td>\n",
       "    </tr>\n",
       "    <tr>\n",
       "      <th>1</th>\n",
       "      <td>Fall</td>\n",
       "      <td>Allegheny Center</td>\n",
       "      <td>Abandoned Vehicle (parked on street)</td>\n",
       "      <td>Report2Gov Android</td>\n",
       "      <td>1</td>\n",
       "    </tr>\n",
       "    <tr>\n",
       "      <th>2</th>\n",
       "      <td>Fall</td>\n",
       "      <td>Allegheny Center</td>\n",
       "      <td>Abandoned Vehicle (parked on street)</td>\n",
       "      <td>Website</td>\n",
       "      <td>6</td>\n",
       "    </tr>\n",
       "    <tr>\n",
       "      <th>3</th>\n",
       "      <td>Fall</td>\n",
       "      <td>Allegheny Center</td>\n",
       "      <td>Americans with Disabilities</td>\n",
       "      <td>Website</td>\n",
       "      <td>1</td>\n",
       "    </tr>\n",
       "    <tr>\n",
       "      <th>4</th>\n",
       "      <td>Fall</td>\n",
       "      <td>Allegheny Center</td>\n",
       "      <td>Bicycle Parking</td>\n",
       "      <td>Website</td>\n",
       "      <td>1</td>\n",
       "    </tr>\n",
       "  </tbody>\n",
       "</table>\n",
       "</div>"
      ],
      "text/plain": [
       "  season      neighborhood                     request_type_name  \\\n",
       "0   Fall  Allegheny Center  Abandoned Vehicle (parked on street)   \n",
       "1   Fall  Allegheny Center  Abandoned Vehicle (parked on street)   \n",
       "2   Fall  Allegheny Center  Abandoned Vehicle (parked on street)   \n",
       "3   Fall  Allegheny Center           Americans with Disabilities   \n",
       "4   Fall  Allegheny Center                       Bicycle Parking   \n",
       "\n",
       "               origin  request_count  \n",
       "0         Call Center              6  \n",
       "1  Report2Gov Android              1  \n",
       "2             Website              6  \n",
       "3             Website              1  \n",
       "4             Website              1  "
      ]
     },
     "execution_count": 281,
     "metadata": {},
     "output_type": "execute_result"
    }
   ],
   "source": [
    "# Group by month and request type to get the count of requests\n",
    "season_requests_req = clean_data.groupby(\n",
    "    ['season', 'neighborhood', 'request_type_name', 'origin']\n",
    ").size().reset_index(name='request_count')\n",
    "season_requests_req.head()"
   ]
  },
  {
   "cell_type": "code",
   "execution_count": 282,
   "metadata": {},
   "outputs": [],
   "source": [
    "season_model_neighborhood = pd.get_dummies(season_requests_req, \n",
    "                          columns=['season', 'neighborhood', 'request_type_name', 'origin'], \n",
    "                          drop_first=True, \n",
    "                          sparse=True)"
   ]
  },
  {
   "cell_type": "code",
   "execution_count": 283,
   "metadata": {},
   "outputs": [
    {
     "data": {
      "text/html": [
       "<div>\n",
       "<style scoped>\n",
       "    .dataframe tbody tr th:only-of-type {\n",
       "        vertical-align: middle;\n",
       "    }\n",
       "\n",
       "    .dataframe tbody tr th {\n",
       "        vertical-align: top;\n",
       "    }\n",
       "\n",
       "    .dataframe thead th {\n",
       "        text-align: right;\n",
       "    }\n",
       "</style>\n",
       "<table border=\"1\" class=\"dataframe\">\n",
       "  <thead>\n",
       "    <tr style=\"text-align: right;\">\n",
       "      <th></th>\n",
       "      <th>request_count</th>\n",
       "      <th>season_Spring</th>\n",
       "      <th>season_Summer</th>\n",
       "      <th>season_Winter</th>\n",
       "      <th>neighborhood_Allegheny West</th>\n",
       "      <th>neighborhood_Allentown</th>\n",
       "      <th>neighborhood_Arlington</th>\n",
       "      <th>neighborhood_Arlington Heights</th>\n",
       "      <th>neighborhood_Banksville</th>\n",
       "      <th>neighborhood_Bedford Dwellings</th>\n",
       "      <th>...</th>\n",
       "      <th>request_type_name_Wires</th>\n",
       "      <th>request_type_name_Zoning Issue</th>\n",
       "      <th>origin_Control Panel</th>\n",
       "      <th>origin_Email</th>\n",
       "      <th>origin_Report2Gov Android</th>\n",
       "      <th>origin_Report2Gov Website</th>\n",
       "      <th>origin_Report2Gov iOS</th>\n",
       "      <th>origin_Text Message</th>\n",
       "      <th>origin_Twitter</th>\n",
       "      <th>origin_Website</th>\n",
       "    </tr>\n",
       "  </thead>\n",
       "  <tbody>\n",
       "    <tr>\n",
       "      <th>0</th>\n",
       "      <td>6</td>\n",
       "      <td>False</td>\n",
       "      <td>False</td>\n",
       "      <td>False</td>\n",
       "      <td>False</td>\n",
       "      <td>False</td>\n",
       "      <td>False</td>\n",
       "      <td>False</td>\n",
       "      <td>False</td>\n",
       "      <td>False</td>\n",
       "      <td>...</td>\n",
       "      <td>False</td>\n",
       "      <td>False</td>\n",
       "      <td>False</td>\n",
       "      <td>False</td>\n",
       "      <td>False</td>\n",
       "      <td>False</td>\n",
       "      <td>False</td>\n",
       "      <td>False</td>\n",
       "      <td>False</td>\n",
       "      <td>False</td>\n",
       "    </tr>\n",
       "    <tr>\n",
       "      <th>1</th>\n",
       "      <td>1</td>\n",
       "      <td>False</td>\n",
       "      <td>False</td>\n",
       "      <td>False</td>\n",
       "      <td>False</td>\n",
       "      <td>False</td>\n",
       "      <td>False</td>\n",
       "      <td>False</td>\n",
       "      <td>False</td>\n",
       "      <td>False</td>\n",
       "      <td>...</td>\n",
       "      <td>False</td>\n",
       "      <td>False</td>\n",
       "      <td>False</td>\n",
       "      <td>False</td>\n",
       "      <td>True</td>\n",
       "      <td>False</td>\n",
       "      <td>False</td>\n",
       "      <td>False</td>\n",
       "      <td>False</td>\n",
       "      <td>False</td>\n",
       "    </tr>\n",
       "    <tr>\n",
       "      <th>2</th>\n",
       "      <td>6</td>\n",
       "      <td>False</td>\n",
       "      <td>False</td>\n",
       "      <td>False</td>\n",
       "      <td>False</td>\n",
       "      <td>False</td>\n",
       "      <td>False</td>\n",
       "      <td>False</td>\n",
       "      <td>False</td>\n",
       "      <td>False</td>\n",
       "      <td>...</td>\n",
       "      <td>False</td>\n",
       "      <td>False</td>\n",
       "      <td>False</td>\n",
       "      <td>False</td>\n",
       "      <td>False</td>\n",
       "      <td>False</td>\n",
       "      <td>False</td>\n",
       "      <td>False</td>\n",
       "      <td>False</td>\n",
       "      <td>True</td>\n",
       "    </tr>\n",
       "    <tr>\n",
       "      <th>3</th>\n",
       "      <td>1</td>\n",
       "      <td>False</td>\n",
       "      <td>False</td>\n",
       "      <td>False</td>\n",
       "      <td>False</td>\n",
       "      <td>False</td>\n",
       "      <td>False</td>\n",
       "      <td>False</td>\n",
       "      <td>False</td>\n",
       "      <td>False</td>\n",
       "      <td>...</td>\n",
       "      <td>False</td>\n",
       "      <td>False</td>\n",
       "      <td>False</td>\n",
       "      <td>False</td>\n",
       "      <td>False</td>\n",
       "      <td>False</td>\n",
       "      <td>False</td>\n",
       "      <td>False</td>\n",
       "      <td>False</td>\n",
       "      <td>True</td>\n",
       "    </tr>\n",
       "    <tr>\n",
       "      <th>4</th>\n",
       "      <td>1</td>\n",
       "      <td>False</td>\n",
       "      <td>False</td>\n",
       "      <td>False</td>\n",
       "      <td>False</td>\n",
       "      <td>False</td>\n",
       "      <td>False</td>\n",
       "      <td>False</td>\n",
       "      <td>False</td>\n",
       "      <td>False</td>\n",
       "      <td>...</td>\n",
       "      <td>False</td>\n",
       "      <td>False</td>\n",
       "      <td>False</td>\n",
       "      <td>False</td>\n",
       "      <td>False</td>\n",
       "      <td>False</td>\n",
       "      <td>False</td>\n",
       "      <td>False</td>\n",
       "      <td>False</td>\n",
       "      <td>True</td>\n",
       "    </tr>\n",
       "  </tbody>\n",
       "</table>\n",
       "<p>5 rows × 395 columns</p>\n",
       "</div>"
      ],
      "text/plain": [
       "   request_count  season_Spring  season_Summer  season_Winter  \\\n",
       "0              6          False          False          False   \n",
       "1              1          False          False          False   \n",
       "2              6          False          False          False   \n",
       "3              1          False          False          False   \n",
       "4              1          False          False          False   \n",
       "\n",
       "   neighborhood_Allegheny West  neighborhood_Allentown  \\\n",
       "0                        False                   False   \n",
       "1                        False                   False   \n",
       "2                        False                   False   \n",
       "3                        False                   False   \n",
       "4                        False                   False   \n",
       "\n",
       "   neighborhood_Arlington  neighborhood_Arlington Heights  \\\n",
       "0                   False                           False   \n",
       "1                   False                           False   \n",
       "2                   False                           False   \n",
       "3                   False                           False   \n",
       "4                   False                           False   \n",
       "\n",
       "   neighborhood_Banksville  neighborhood_Bedford Dwellings  ...  \\\n",
       "0                    False                           False  ...   \n",
       "1                    False                           False  ...   \n",
       "2                    False                           False  ...   \n",
       "3                    False                           False  ...   \n",
       "4                    False                           False  ...   \n",
       "\n",
       "   request_type_name_Wires  request_type_name_Zoning Issue  \\\n",
       "0                    False                           False   \n",
       "1                    False                           False   \n",
       "2                    False                           False   \n",
       "3                    False                           False   \n",
       "4                    False                           False   \n",
       "\n",
       "   origin_Control Panel  origin_Email  origin_Report2Gov Android  \\\n",
       "0                 False         False                      False   \n",
       "1                 False         False                       True   \n",
       "2                 False         False                      False   \n",
       "3                 False         False                      False   \n",
       "4                 False         False                      False   \n",
       "\n",
       "   origin_Report2Gov Website  origin_Report2Gov iOS  origin_Text Message  \\\n",
       "0                      False                  False                False   \n",
       "1                      False                  False                False   \n",
       "2                      False                  False                False   \n",
       "3                      False                  False                False   \n",
       "4                      False                  False                False   \n",
       "\n",
       "   origin_Twitter  origin_Website  \n",
       "0           False           False  \n",
       "1           False           False  \n",
       "2           False            True  \n",
       "3           False            True  \n",
       "4           False            True  \n",
       "\n",
       "[5 rows x 395 columns]"
      ]
     },
     "execution_count": 283,
     "metadata": {},
     "output_type": "execute_result"
    }
   ],
   "source": [
    "season_model_neighborhood.head()"
   ]
  },
  {
   "cell_type": "markdown",
   "metadata": {},
   "source": [
    "### Modeling"
   ]
  },
  {
   "cell_type": "code",
   "execution_count": 284,
   "metadata": {},
   "outputs": [],
   "source": [
    "from sklearn.model_selection import train_test_split\n",
    "\n",
    "X = season_model_neighborhood.drop(columns=['request_count'])\n",
    "y = season_model_neighborhood['request_count']\n",
    "\n",
    "X_train, X_test, y_train, y_test = train_test_split(X, y, test_size=0.2, random_state=42)"
   ]
  },
  {
   "cell_type": "code",
   "execution_count": 285,
   "metadata": {},
   "outputs": [
    {
     "name": "stdout",
     "output_type": "stream",
     "text": [
      "Baseline RMSE (Mean Model): 18.435248766249266\n"
     ]
    }
   ],
   "source": [
    "# Baseline Model (Mean of y_train)\n",
    "y_baseline = np.full_like(y_train, y_train.mean())\n",
    "\n",
    "# RMSE for Baseline Model\n",
    "baseline_rmse_season_neighborhood = mean_squared_error(y_train, y_baseline)\n",
    "baseline_rmse_season_neighborhood = np.sqrt(baseline_rmse_season_neighborhood)\n",
    "print(f\"Baseline RMSE (Mean Model): {baseline_rmse_season_neighborhood}\")"
   ]
  },
  {
   "cell_type": "code",
   "execution_count": 286,
   "metadata": {},
   "outputs": [
    {
     "name": "stdout",
     "output_type": "stream",
     "text": [
      "RMSE scores for each fold: [13.89085904 14.56128965 19.06429793 17.79502479 20.10367822]\n",
      "Mean RMSE: 17.08302992492346\n"
     ]
    }
   ],
   "source": [
    "# Linear Regression Model\n",
    "from sklearn.linear_model import LinearRegression\n",
    "\n",
    "pipeline = make_pipeline(LinearRegression())\n",
    "\n",
    "# Perform 5 fold cross-validation \n",
    "scores = cross_val_score(pipeline, X_train, y_train, cv=5, scoring='neg_mean_squared_error')\n",
    "\n",
    "rmse_scores_linear_neighborhood_season = np.sqrt(-scores)\n",
    "\n",
    "# Print RMSE for each fold\n",
    "print(f\"RMSE scores for each fold: {rmse_scores_linear_neighborhood_season}\")\n",
    "# Print mean RMSE\n",
    "print(f\"Mean RMSE: {rmse_scores_linear_neighborhood_season.mean()}\")"
   ]
  },
  {
   "cell_type": "code",
   "execution_count": 287,
   "metadata": {},
   "outputs": [
    {
     "name": "stdout",
     "output_type": "stream",
     "text": [
      "RMSE scores for each fold: [32.06125145 27.24904693 25.12550969 31.08499002 27.56311498]\n",
      "Mean RMSE: 28.61678261447882\n"
     ]
    }
   ],
   "source": [
    "# Decision Tree Model\n",
    "from sklearn.tree import DecisionTreeRegressor\n",
    "\n",
    "pipeline = make_pipeline(DecisionTreeRegressor())\n",
    "\n",
    "# Perform 5 fold cross-validation \n",
    "scores = cross_val_score(pipeline, X_train, y_train, cv=5, scoring='neg_mean_squared_error')\n",
    "\n",
    "rmse_scores_dtree_neighborhood_season = np.sqrt(-scores)\n",
    "\n",
    "# Print RMSE for each fold\n",
    "print(f\"RMSE scores for each fold: {rmse_scores_dtree_neighborhood_season}\")\n",
    "# Print mean RMSE\n",
    "print(f\"Mean RMSE: {rmse_scores_dtree_neighborhood_season.mean()}\")"
   ]
  },
  {
   "cell_type": "code",
   "execution_count": 288,
   "metadata": {},
   "outputs": [
    {
     "name": "stderr",
     "output_type": "stream",
     "text": [
      "/opt/anaconda3/envs/new/lib/python3.12/site-packages/xgboost/data.py:399: UserWarning: Sparse arrays from pandas are converted into dense.\n",
      "  warnings.warn(\"Sparse arrays from pandas are converted into dense.\")\n",
      "/opt/anaconda3/envs/new/lib/python3.12/site-packages/xgboost/data.py:399: UserWarning: Sparse arrays from pandas are converted into dense.\n",
      "  warnings.warn(\"Sparse arrays from pandas are converted into dense.\")\n",
      "/opt/anaconda3/envs/new/lib/python3.12/site-packages/xgboost/data.py:399: UserWarning: Sparse arrays from pandas are converted into dense.\n",
      "  warnings.warn(\"Sparse arrays from pandas are converted into dense.\")\n",
      "/opt/anaconda3/envs/new/lib/python3.12/site-packages/xgboost/data.py:399: UserWarning: Sparse arrays from pandas are converted into dense.\n",
      "  warnings.warn(\"Sparse arrays from pandas are converted into dense.\")\n",
      "/opt/anaconda3/envs/new/lib/python3.12/site-packages/xgboost/data.py:399: UserWarning: Sparse arrays from pandas are converted into dense.\n",
      "  warnings.warn(\"Sparse arrays from pandas are converted into dense.\")\n",
      "/opt/anaconda3/envs/new/lib/python3.12/site-packages/xgboost/data.py:399: UserWarning: Sparse arrays from pandas are converted into dense.\n",
      "  warnings.warn(\"Sparse arrays from pandas are converted into dense.\")\n",
      "/opt/anaconda3/envs/new/lib/python3.12/site-packages/xgboost/data.py:399: UserWarning: Sparse arrays from pandas are converted into dense.\n",
      "  warnings.warn(\"Sparse arrays from pandas are converted into dense.\")\n",
      "/opt/anaconda3/envs/new/lib/python3.12/site-packages/xgboost/data.py:399: UserWarning: Sparse arrays from pandas are converted into dense.\n",
      "  warnings.warn(\"Sparse arrays from pandas are converted into dense.\")\n",
      "/opt/anaconda3/envs/new/lib/python3.12/site-packages/xgboost/data.py:399: UserWarning: Sparse arrays from pandas are converted into dense.\n",
      "  warnings.warn(\"Sparse arrays from pandas are converted into dense.\")\n"
     ]
    },
    {
     "name": "stdout",
     "output_type": "stream",
     "text": [
      "RMSE scores for each fold: [15.65020769 16.00345479 16.58520334 21.15487094 19.97690088]\n",
      "Mean RMSE: 17.87412752692932\n"
     ]
    },
    {
     "name": "stderr",
     "output_type": "stream",
     "text": [
      "/opt/anaconda3/envs/new/lib/python3.12/site-packages/xgboost/data.py:399: UserWarning: Sparse arrays from pandas are converted into dense.\n",
      "  warnings.warn(\"Sparse arrays from pandas are converted into dense.\")\n"
     ]
    }
   ],
   "source": [
    "# XGboost\n",
    "from xgboost import XGBRegressor\n",
    "\n",
    "pipeline = make_pipeline(XGBRegressor())\n",
    "\n",
    "# Perform 5 fold cross-validation \n",
    "scores = cross_val_score(pipeline, X_train, y_train, cv=5, scoring='neg_mean_squared_error')\n",
    "\n",
    "rmse_scores_xgboost_neighborhood_season = np.sqrt(-scores)\n",
    "\n",
    "# Print RMSE for each fold\n",
    "print(f\"RMSE scores for each fold: {rmse_scores_xgboost_neighborhood_season}\")\n",
    "# Print mean RMSE\n",
    "print(f\"Mean RMSE: {rmse_scores_xgboost_neighborhood_season.mean()}\")"
   ]
  },
  {
   "cell_type": "markdown",
   "metadata": {},
   "source": [
    "#### Data Aggregation (by Seasons and Department)"
   ]
  },
  {
   "cell_type": "code",
   "execution_count": 289,
   "metadata": {},
   "outputs": [
    {
     "data": {
      "text/html": [
       "<div>\n",
       "<style scoped>\n",
       "    .dataframe tbody tr th:only-of-type {\n",
       "        vertical-align: middle;\n",
       "    }\n",
       "\n",
       "    .dataframe tbody tr th {\n",
       "        vertical-align: top;\n",
       "    }\n",
       "\n",
       "    .dataframe thead th {\n",
       "        text-align: right;\n",
       "    }\n",
       "</style>\n",
       "<table border=\"1\" class=\"dataframe\">\n",
       "  <thead>\n",
       "    <tr style=\"text-align: right;\">\n",
       "      <th></th>\n",
       "      <th>season</th>\n",
       "      <th>dept</th>\n",
       "      <th>request_type_name</th>\n",
       "      <th>origin</th>\n",
       "      <th>request_count</th>\n",
       "    </tr>\n",
       "  </thead>\n",
       "  <tbody>\n",
       "    <tr>\n",
       "      <th>0</th>\n",
       "      <td>Fall</td>\n",
       "      <td>311</td>\n",
       "      <td>Abandoned Vehicle (parked on street)</td>\n",
       "      <td>Call Center</td>\n",
       "      <td>1</td>\n",
       "    </tr>\n",
       "    <tr>\n",
       "      <th>1</th>\n",
       "      <td>Fall</td>\n",
       "      <td>311</td>\n",
       "      <td>Accessible Parking Application</td>\n",
       "      <td>Call Center</td>\n",
       "      <td>52</td>\n",
       "    </tr>\n",
       "    <tr>\n",
       "      <th>2</th>\n",
       "      <td>Fall</td>\n",
       "      <td>311</td>\n",
       "      <td>Accessible Parking Application</td>\n",
       "      <td>Control Panel</td>\n",
       "      <td>3</td>\n",
       "    </tr>\n",
       "    <tr>\n",
       "      <th>3</th>\n",
       "      <td>Fall</td>\n",
       "      <td>311</td>\n",
       "      <td>Accessible Parking Application</td>\n",
       "      <td>Website</td>\n",
       "      <td>1</td>\n",
       "    </tr>\n",
       "    <tr>\n",
       "      <th>4</th>\n",
       "      <td>Fall</td>\n",
       "      <td>311</td>\n",
       "      <td>Building Maintenance</td>\n",
       "      <td>Call Center</td>\n",
       "      <td>1</td>\n",
       "    </tr>\n",
       "  </tbody>\n",
       "</table>\n",
       "</div>"
      ],
      "text/plain": [
       "  season dept                     request_type_name         origin  \\\n",
       "0   Fall  311  Abandoned Vehicle (parked on street)    Call Center   \n",
       "1   Fall  311        Accessible Parking Application    Call Center   \n",
       "2   Fall  311        Accessible Parking Application  Control Panel   \n",
       "3   Fall  311        Accessible Parking Application        Website   \n",
       "4   Fall  311                  Building Maintenance    Call Center   \n",
       "\n",
       "   request_count  \n",
       "0              1  \n",
       "1             52  \n",
       "2              3  \n",
       "3              1  \n",
       "4              1  "
      ]
     },
     "execution_count": 289,
     "metadata": {},
     "output_type": "execute_result"
    }
   ],
   "source": [
    "# Group by month and request type to get the count of requests\n",
    "season_requests_req = clean_data.groupby(\n",
    "    ['season', 'dept', 'request_type_name', 'origin']\n",
    ").size().reset_index(name='request_count')\n",
    "season_requests_req.head()"
   ]
  },
  {
   "cell_type": "code",
   "execution_count": 290,
   "metadata": {},
   "outputs": [],
   "source": [
    "season_model_dept = pd.get_dummies(season_requests_req, \n",
    "                          columns=['season', 'dept', 'request_type_name', 'origin'], \n",
    "                          drop_first=True, \n",
    "                          sparse=True)"
   ]
  },
  {
   "cell_type": "markdown",
   "metadata": {},
   "source": [
    "### Modeling"
   ]
  },
  {
   "cell_type": "code",
   "execution_count": 291,
   "metadata": {},
   "outputs": [],
   "source": [
    "X = season_model_dept.drop(columns=['request_count'])\n",
    "y = season_model_dept['request_count']\n",
    "\n",
    "X_train, X_test, y_train, y_test = train_test_split(X, y, test_size=0.2, random_state=42)"
   ]
  },
  {
   "cell_type": "code",
   "execution_count": 292,
   "metadata": {},
   "outputs": [
    {
     "name": "stdout",
     "output_type": "stream",
     "text": [
      "Baseline RMSE (Mean Model): 325.1954446255484\n"
     ]
    }
   ],
   "source": [
    "# Baseline Model (Mean of y_train)\n",
    "y_baseline = np.full_like(y_train, y_train.mean())\n",
    "\n",
    "# RMSE for Baseline Model\n",
    "baseline_rmse_season_dept = mean_squared_error(y_train, y_baseline)\n",
    "baseline_rmse_season_dept = np.sqrt(baseline_rmse_season_dept)\n",
    "print(f\"Baseline RMSE (Mean Model): {baseline_rmse_season_dept}\")"
   ]
  },
  {
   "cell_type": "code",
   "execution_count": 293,
   "metadata": {},
   "outputs": [
    {
     "name": "stdout",
     "output_type": "stream",
     "text": [
      "RMSE scores for each fold: [459.63598214 369.67049627 218.33335407 213.74372611 187.2153223 ]\n",
      "Mean RMSE: 289.71977617908425\n"
     ]
    }
   ],
   "source": [
    "# Linear Regression Model\n",
    "\n",
    "from sklearn.linear_model import LinearRegression\n",
    "from sklearn.metrics import mean_squared_error\n",
    "\n",
    "pipeline = make_pipeline(LinearRegression())\n",
    "\n",
    "# Perform 5 fold cross-validation \n",
    "scores = cross_val_score(pipeline, X_train, y_train, cv=5, scoring='neg_mean_squared_error')\n",
    "\n",
    "rmse_scores_linear_dept_season = np.sqrt(-scores)\n",
    "\n",
    "# Print RMSE for each fold\n",
    "print(f\"RMSE scores for each fold: {rmse_scores_linear_dept_season}\")\n",
    "# Print mean RMSE\n",
    "print(f\"Mean RMSE: {rmse_scores_linear_dept_season.mean()}\")"
   ]
  },
  {
   "cell_type": "code",
   "execution_count": 294,
   "metadata": {},
   "outputs": [
    {
     "name": "stdout",
     "output_type": "stream",
     "text": [
      "RMSE scores for each fold: [840.52511739 471.89919732 673.74937611 562.38622988 580.46428112]\n",
      "Mean RMSE: 625.804840363448\n"
     ]
    }
   ],
   "source": [
    "# Decision Tree Model\n",
    "from sklearn.tree import DecisionTreeRegressor\n",
    "\n",
    "pipeline = make_pipeline(DecisionTreeRegressor())\n",
    "\n",
    "# Perform 5 fold cross-validation \n",
    "scores = cross_val_score(pipeline, X_train, y_train, cv=5, scoring='neg_mean_squared_error')\n",
    "\n",
    "rmse_scores_dtree_dept_season = np.sqrt(-scores)\n",
    "\n",
    "# Print RMSE for each fold\n",
    "print(f\"RMSE scores for each fold: {rmse_scores_dtree_dept_season}\")\n",
    "# Print mean RMSE\n",
    "print(f\"Mean RMSE: {rmse_scores_dtree_dept_season.mean()}\")"
   ]
  },
  {
   "cell_type": "code",
   "execution_count": 295,
   "metadata": {},
   "outputs": [
    {
     "name": "stderr",
     "output_type": "stream",
     "text": [
      "/opt/anaconda3/envs/new/lib/python3.12/site-packages/xgboost/data.py:399: UserWarning: Sparse arrays from pandas are converted into dense.\n",
      "  warnings.warn(\"Sparse arrays from pandas are converted into dense.\")\n",
      "/opt/anaconda3/envs/new/lib/python3.12/site-packages/xgboost/data.py:399: UserWarning: Sparse arrays from pandas are converted into dense.\n",
      "  warnings.warn(\"Sparse arrays from pandas are converted into dense.\")\n",
      "/opt/anaconda3/envs/new/lib/python3.12/site-packages/xgboost/data.py:399: UserWarning: Sparse arrays from pandas are converted into dense.\n",
      "  warnings.warn(\"Sparse arrays from pandas are converted into dense.\")\n",
      "/opt/anaconda3/envs/new/lib/python3.12/site-packages/xgboost/data.py:399: UserWarning: Sparse arrays from pandas are converted into dense.\n",
      "  warnings.warn(\"Sparse arrays from pandas are converted into dense.\")\n",
      "/opt/anaconda3/envs/new/lib/python3.12/site-packages/xgboost/data.py:399: UserWarning: Sparse arrays from pandas are converted into dense.\n",
      "  warnings.warn(\"Sparse arrays from pandas are converted into dense.\")\n",
      "/opt/anaconda3/envs/new/lib/python3.12/site-packages/xgboost/data.py:399: UserWarning: Sparse arrays from pandas are converted into dense.\n",
      "  warnings.warn(\"Sparse arrays from pandas are converted into dense.\")\n",
      "/opt/anaconda3/envs/new/lib/python3.12/site-packages/xgboost/data.py:399: UserWarning: Sparse arrays from pandas are converted into dense.\n",
      "  warnings.warn(\"Sparse arrays from pandas are converted into dense.\")\n",
      "/opt/anaconda3/envs/new/lib/python3.12/site-packages/xgboost/data.py:399: UserWarning: Sparse arrays from pandas are converted into dense.\n",
      "  warnings.warn(\"Sparse arrays from pandas are converted into dense.\")\n",
      "/opt/anaconda3/envs/new/lib/python3.12/site-packages/xgboost/data.py:399: UserWarning: Sparse arrays from pandas are converted into dense.\n",
      "  warnings.warn(\"Sparse arrays from pandas are converted into dense.\")\n",
      "/opt/anaconda3/envs/new/lib/python3.12/site-packages/xgboost/data.py:399: UserWarning: Sparse arrays from pandas are converted into dense.\n",
      "  warnings.warn(\"Sparse arrays from pandas are converted into dense.\")\n"
     ]
    },
    {
     "name": "stdout",
     "output_type": "stream",
     "text": [
      "RMSE scores for each fold: [630.40250039 326.25234673 589.58841576 477.1219544  395.7005852 ]\n",
      "Mean RMSE: 483.8131604978531\n"
     ]
    }
   ],
   "source": [
    "# XGboost\n",
    "from xgboost import XGBRegressor\n",
    "\n",
    "pipeline = make_pipeline(XGBRegressor())\n",
    "\n",
    "# Perform 5 fold cross-validation \n",
    "scores = cross_val_score(pipeline, X_train, y_train, cv=5, scoring='neg_mean_squared_error')\n",
    "\n",
    "rmse_scores_xgboost_dept_season = np.sqrt(-scores)\n",
    "\n",
    "# Print RMSE for each fold\n",
    "print(f\"RMSE scores for each fold: {rmse_scores_xgboost_dept_season}\")\n",
    "# Print mean RMSE\n",
    "print(f\"Mean RMSE: {rmse_scores_xgboost_dept_season.mean()}\")"
   ]
  },
  {
   "cell_type": "markdown",
   "metadata": {},
   "source": [
    "#### Data Aggregation (by Month and Neighborbood)"
   ]
  },
  {
   "cell_type": "code",
   "execution_count": 296,
   "metadata": {},
   "outputs": [
    {
     "data": {
      "text/html": [
       "<div>\n",
       "<style scoped>\n",
       "    .dataframe tbody tr th:only-of-type {\n",
       "        vertical-align: middle;\n",
       "    }\n",
       "\n",
       "    .dataframe tbody tr th {\n",
       "        vertical-align: top;\n",
       "    }\n",
       "\n",
       "    .dataframe thead th {\n",
       "        text-align: right;\n",
       "    }\n",
       "</style>\n",
       "<table border=\"1\" class=\"dataframe\">\n",
       "  <thead>\n",
       "    <tr style=\"text-align: right;\">\n",
       "      <th></th>\n",
       "      <th>month</th>\n",
       "      <th>neighborhood</th>\n",
       "      <th>request_type_name</th>\n",
       "      <th>origin</th>\n",
       "      <th>request_count</th>\n",
       "    </tr>\n",
       "  </thead>\n",
       "  <tbody>\n",
       "    <tr>\n",
       "      <th>0</th>\n",
       "      <td>1</td>\n",
       "      <td>Allegheny Center</td>\n",
       "      <td>Angle Iron</td>\n",
       "      <td>Website</td>\n",
       "      <td>1</td>\n",
       "    </tr>\n",
       "    <tr>\n",
       "      <th>1</th>\n",
       "      <td>1</td>\n",
       "      <td>Allegheny Center</td>\n",
       "      <td>Bicycle/Pedestrian Concerns</td>\n",
       "      <td>Call Center</td>\n",
       "      <td>1</td>\n",
       "    </tr>\n",
       "    <tr>\n",
       "      <th>2</th>\n",
       "      <td>1</td>\n",
       "      <td>Allegheny Center</td>\n",
       "      <td>Blocked or Closed Sidewalks</td>\n",
       "      <td>Email</td>\n",
       "      <td>1</td>\n",
       "    </tr>\n",
       "    <tr>\n",
       "      <th>3</th>\n",
       "      <td>1</td>\n",
       "      <td>Allegheny Center</td>\n",
       "      <td>Blocked or Closed Trails</td>\n",
       "      <td>Email</td>\n",
       "      <td>1</td>\n",
       "    </tr>\n",
       "    <tr>\n",
       "      <th>4</th>\n",
       "      <td>1</td>\n",
       "      <td>Allegheny Center</td>\n",
       "      <td>Blue Bin Containers</td>\n",
       "      <td>Call Center</td>\n",
       "      <td>2</td>\n",
       "    </tr>\n",
       "  </tbody>\n",
       "</table>\n",
       "</div>"
      ],
      "text/plain": [
       "   month      neighborhood            request_type_name       origin  \\\n",
       "0      1  Allegheny Center                   Angle Iron      Website   \n",
       "1      1  Allegheny Center  Bicycle/Pedestrian Concerns  Call Center   \n",
       "2      1  Allegheny Center  Blocked or Closed Sidewalks        Email   \n",
       "3      1  Allegheny Center     Blocked or Closed Trails        Email   \n",
       "4      1  Allegheny Center          Blue Bin Containers  Call Center   \n",
       "\n",
       "   request_count  \n",
       "0              1  \n",
       "1              1  \n",
       "2              1  \n",
       "3              1  \n",
       "4              2  "
      ]
     },
     "execution_count": 296,
     "metadata": {},
     "output_type": "execute_result"
    }
   ],
   "source": [
    "# Group by month and request type to get the count of requests\n",
    "month_requests_req = clean_data.groupby(\n",
    "    ['month', 'neighborhood', 'request_type_name', 'origin']\n",
    ").size().reset_index(name='request_count')\n",
    "month_requests_req.head()"
   ]
  },
  {
   "cell_type": "code",
   "execution_count": 297,
   "metadata": {},
   "outputs": [],
   "source": [
    "month_model_neighborhood = pd.get_dummies(month_requests_req, \n",
    "                          columns=['month', 'neighborhood', 'request_type_name', 'origin'], \n",
    "                          drop_first=True, \n",
    "                          sparse=True)"
   ]
  },
  {
   "cell_type": "markdown",
   "metadata": {},
   "source": [
    "#### Modelling"
   ]
  },
  {
   "cell_type": "code",
   "execution_count": 298,
   "metadata": {},
   "outputs": [],
   "source": [
    "X = month_model_neighborhood.drop(columns=['request_count'])\n",
    "y = month_model_neighborhood['request_count']\n",
    "\n",
    "X_train, X_test, y_train, y_test = train_test_split(X, y, test_size=0.2, random_state=42)"
   ]
  },
  {
   "cell_type": "code",
   "execution_count": 299,
   "metadata": {},
   "outputs": [
    {
     "name": "stdout",
     "output_type": "stream",
     "text": [
      "Baseline RMSE (Mean Model): 8.927085949382109\n"
     ]
    }
   ],
   "source": [
    "# Baseline Model (Mean of y_train)\n",
    "y_baseline = np.full_like(y_train, y_train.mean())\n",
    "\n",
    "# RMSE for Baseline Model\n",
    "baseline_rmse_month_neighborhood = mean_squared_error(y_train, y_baseline)\n",
    "baseline_rmse_month_neighborhood = np.sqrt(baseline_rmse_month_neighborhood)\n",
    "print(f\"Baseline RMSE (Mean Model): {baseline_rmse_month_neighborhood}\")"
   ]
  },
  {
   "cell_type": "code",
   "execution_count": 300,
   "metadata": {},
   "outputs": [
    {
     "name": "stdout",
     "output_type": "stream",
     "text": [
      "RMSE scores for each fold: [8.08201986 9.60648654 8.34110057 8.04002238 7.43722379]\n",
      "Mean RMSE: 8.301370627997565\n"
     ]
    }
   ],
   "source": [
    "# Linear Regression Model\n",
    "pipeline = make_pipeline(LinearRegression())\n",
    "\n",
    "# Perform 5 fold cross-validation \n",
    "scores = cross_val_score(pipeline, X_train, y_train, cv=5, scoring='neg_mean_squared_error')\n",
    "\n",
    "rmse_scores_linear_dept_month = np.sqrt(-scores)\n",
    "\n",
    "# Print RMSE for each fold\n",
    "print(f\"RMSE scores for each fold: {rmse_scores_linear_dept_month}\")\n",
    "# Print mean RMSE\n",
    "print(f\"Mean RMSE: {rmse_scores_linear_dept_month.mean()}\")"
   ]
  },
  {
   "cell_type": "code",
   "execution_count": 301,
   "metadata": {},
   "outputs": [
    {
     "name": "stdout",
     "output_type": "stream",
     "text": [
      "RMSE scores for each fold: [11.17159931 13.81579173 13.19050409 12.71515607 14.82313401]\n",
      "Mean RMSE: 13.143237041095645\n"
     ]
    }
   ],
   "source": [
    "# Decision Tree \n",
    "pipeline = make_pipeline(DecisionTreeRegressor())\n",
    "\n",
    "# Perform 5 fold cross-validation\n",
    "scores = cross_val_score(pipeline, X_train, y_train, cv=5, scoring='neg_mean_squared_error')\n",
    "\n",
    "rmse_scores_dtree_dept_month = np.sqrt(-scores)\n",
    "\n",
    "# Print RMSE for each fold\n",
    "print(f\"RMSE scores for each fold: {rmse_scores_dtree_dept_month}\")\n",
    "# Print mean RMSE\n",
    "print(f\"Mean RMSE: {rmse_scores_dtree_dept_month.mean()}\")"
   ]
  },
  {
   "cell_type": "code",
   "execution_count": 302,
   "metadata": {},
   "outputs": [
    {
     "name": "stderr",
     "output_type": "stream",
     "text": [
      "/opt/anaconda3/envs/new/lib/python3.12/site-packages/xgboost/data.py:399: UserWarning: Sparse arrays from pandas are converted into dense.\n",
      "  warnings.warn(\"Sparse arrays from pandas are converted into dense.\")\n",
      "/opt/anaconda3/envs/new/lib/python3.12/site-packages/xgboost/data.py:399: UserWarning: Sparse arrays from pandas are converted into dense.\n",
      "  warnings.warn(\"Sparse arrays from pandas are converted into dense.\")\n",
      "/opt/anaconda3/envs/new/lib/python3.12/site-packages/xgboost/data.py:399: UserWarning: Sparse arrays from pandas are converted into dense.\n",
      "  warnings.warn(\"Sparse arrays from pandas are converted into dense.\")\n",
      "/opt/anaconda3/envs/new/lib/python3.12/site-packages/xgboost/data.py:399: UserWarning: Sparse arrays from pandas are converted into dense.\n",
      "  warnings.warn(\"Sparse arrays from pandas are converted into dense.\")\n",
      "/opt/anaconda3/envs/new/lib/python3.12/site-packages/xgboost/data.py:399: UserWarning: Sparse arrays from pandas are converted into dense.\n",
      "  warnings.warn(\"Sparse arrays from pandas are converted into dense.\")\n",
      "/opt/anaconda3/envs/new/lib/python3.12/site-packages/xgboost/data.py:399: UserWarning: Sparse arrays from pandas are converted into dense.\n",
      "  warnings.warn(\"Sparse arrays from pandas are converted into dense.\")\n",
      "/opt/anaconda3/envs/new/lib/python3.12/site-packages/xgboost/data.py:399: UserWarning: Sparse arrays from pandas are converted into dense.\n",
      "  warnings.warn(\"Sparse arrays from pandas are converted into dense.\")\n",
      "/opt/anaconda3/envs/new/lib/python3.12/site-packages/xgboost/data.py:399: UserWarning: Sparse arrays from pandas are converted into dense.\n",
      "  warnings.warn(\"Sparse arrays from pandas are converted into dense.\")\n",
      "/opt/anaconda3/envs/new/lib/python3.12/site-packages/xgboost/data.py:399: UserWarning: Sparse arrays from pandas are converted into dense.\n",
      "  warnings.warn(\"Sparse arrays from pandas are converted into dense.\")\n",
      "/opt/anaconda3/envs/new/lib/python3.12/site-packages/xgboost/data.py:399: UserWarning: Sparse arrays from pandas are converted into dense.\n",
      "  warnings.warn(\"Sparse arrays from pandas are converted into dense.\")\n"
     ]
    },
    {
     "name": "stdout",
     "output_type": "stream",
     "text": [
      "RMSE scores for each fold: [6.88848249 8.27206522 7.03012252 6.54248133 6.9078914 ]\n",
      "Mean RMSE: 7.128208590778025\n"
     ]
    }
   ],
   "source": [
    "# XGboost\n",
    "pipeline = make_pipeline(XGBRegressor())\n",
    "\n",
    "# Perform 5 fold cross-validation\n",
    "scores = cross_val_score(pipeline, X_train, y_train, cv=5, scoring='neg_mean_squared_error')\n",
    "\n",
    "rmse_scores_xgboost_dept_month = np.sqrt(-scores)\n",
    "\n",
    "# Print RMSE for each fold\n",
    "print(f\"RMSE scores for each fold: {rmse_scores_xgboost_dept_month}\")\n",
    "# Print mean RMSE\n",
    "print(f\"Mean RMSE: {rmse_scores_xgboost_dept_month.mean()}\")"
   ]
  },
  {
   "cell_type": "markdown",
   "metadata": {},
   "source": [
    "#### Data Aggregation (by Month and Department)"
   ]
  },
  {
   "cell_type": "code",
   "execution_count": 303,
   "metadata": {},
   "outputs": [
    {
     "data": {
      "text/html": [
       "<div>\n",
       "<style scoped>\n",
       "    .dataframe tbody tr th:only-of-type {\n",
       "        vertical-align: middle;\n",
       "    }\n",
       "\n",
       "    .dataframe tbody tr th {\n",
       "        vertical-align: top;\n",
       "    }\n",
       "\n",
       "    .dataframe thead th {\n",
       "        text-align: right;\n",
       "    }\n",
       "</style>\n",
       "<table border=\"1\" class=\"dataframe\">\n",
       "  <thead>\n",
       "    <tr style=\"text-align: right;\">\n",
       "      <th></th>\n",
       "      <th>month</th>\n",
       "      <th>dept</th>\n",
       "      <th>request_type_name</th>\n",
       "      <th>origin</th>\n",
       "      <th>request_count</th>\n",
       "    </tr>\n",
       "  </thead>\n",
       "  <tbody>\n",
       "    <tr>\n",
       "      <th>0</th>\n",
       "      <td>1</td>\n",
       "      <td>311</td>\n",
       "      <td>Abandoned Vehicle (parked on street)</td>\n",
       "      <td>Call Center</td>\n",
       "      <td>1</td>\n",
       "    </tr>\n",
       "    <tr>\n",
       "      <th>1</th>\n",
       "      <td>1</td>\n",
       "      <td>311</td>\n",
       "      <td>Accessible Parking Application</td>\n",
       "      <td>Call Center</td>\n",
       "      <td>13</td>\n",
       "    </tr>\n",
       "    <tr>\n",
       "      <th>2</th>\n",
       "      <td>1</td>\n",
       "      <td>311</td>\n",
       "      <td>Building Maintenance</td>\n",
       "      <td>Website</td>\n",
       "      <td>1</td>\n",
       "    </tr>\n",
       "    <tr>\n",
       "      <th>3</th>\n",
       "      <td>1</td>\n",
       "      <td>311</td>\n",
       "      <td>City Cuts Concern</td>\n",
       "      <td>Call Center</td>\n",
       "      <td>1</td>\n",
       "    </tr>\n",
       "    <tr>\n",
       "      <th>4</th>\n",
       "      <td>1</td>\n",
       "      <td>311</td>\n",
       "      <td>City Cuts Concern</td>\n",
       "      <td>Website</td>\n",
       "      <td>2</td>\n",
       "    </tr>\n",
       "  </tbody>\n",
       "</table>\n",
       "</div>"
      ],
      "text/plain": [
       "   month dept                     request_type_name       origin  \\\n",
       "0      1  311  Abandoned Vehicle (parked on street)  Call Center   \n",
       "1      1  311        Accessible Parking Application  Call Center   \n",
       "2      1  311                  Building Maintenance      Website   \n",
       "3      1  311                     City Cuts Concern  Call Center   \n",
       "4      1  311                     City Cuts Concern      Website   \n",
       "\n",
       "   request_count  \n",
       "0              1  \n",
       "1             13  \n",
       "2              1  \n",
       "3              1  \n",
       "4              2  "
      ]
     },
     "execution_count": 303,
     "metadata": {},
     "output_type": "execute_result"
    }
   ],
   "source": [
    "# Group by month and request type to get the count of requests\n",
    "month_requests_req = clean_data.groupby(\n",
    "    ['month', 'dept', 'request_type_name', 'origin']\n",
    ").size().reset_index(name='request_count')\n",
    "month_requests_req.head()"
   ]
  },
  {
   "cell_type": "code",
   "execution_count": 304,
   "metadata": {},
   "outputs": [],
   "source": [
    "month_model_dept = pd.get_dummies(month_requests_req, \n",
    "                          columns=['month', 'dept', 'request_type_name', 'origin'], \n",
    "                          drop_first=True, \n",
    "                          sparse=True)"
   ]
  },
  {
   "cell_type": "markdown",
   "metadata": {},
   "source": [
    "#### Modeling"
   ]
  },
  {
   "cell_type": "code",
   "execution_count": 305,
   "metadata": {},
   "outputs": [],
   "source": [
    "X = month_model_dept.drop(columns=['request_count'])\n",
    "y = month_model_dept['request_count']\n",
    "\n",
    "X_train, X_test, y_train, y_test = train_test_split(X, y, test_size=0.2, random_state=42)"
   ]
  },
  {
   "cell_type": "code",
   "execution_count": 306,
   "metadata": {},
   "outputs": [
    {
     "name": "stdout",
     "output_type": "stream",
     "text": [
      "Baseline RMSE (Mean Model): 121.70518945442578\n"
     ]
    }
   ],
   "source": [
    "# Baseline Model (Mean of y_train)\n",
    "y_baseline = np.full_like(y_train, y_train.mean())\n",
    "\n",
    "# RMSE for Baseline Model\n",
    "baseline_rmse_month_dept = mean_squared_error(y_train, y_baseline)\n",
    "baseline_rmse_month_dept = np.sqrt(baseline_rmse_month_dept)\n",
    "print(f\"Baseline RMSE (Mean Model): {baseline_rmse_month_dept}\")"
   ]
  },
  {
   "cell_type": "code",
   "execution_count": 307,
   "metadata": {},
   "outputs": [
    {
     "name": "stdout",
     "output_type": "stream",
     "text": [
      "RMSE scores for each fold: [134.68900869 107.59907001  79.11730687 103.86682553 120.51602487]\n",
      "Mean RMSE: 109.15764719355548\n"
     ]
    }
   ],
   "source": [
    "# Linear Regression Model\n",
    "pipeline = make_pipeline(LinearRegression())\n",
    "\n",
    "# Perform 5 fold cross-validation\n",
    "scores = cross_val_score(pipeline, X_train, y_train, cv=5, scoring='neg_mean_squared_error')\n",
    "\n",
    "rmse_scores_linear_dept_month = np.sqrt(-scores)\n",
    "\n",
    "# Print RMSE for each fold\n",
    "print(f\"RMSE scores for each fold: {rmse_scores_linear_dept_month}\")\n",
    "# Print mean RMSE\n",
    "print(f\"Mean RMSE: {rmse_scores_linear_dept_month.mean()}\")"
   ]
  },
  {
   "cell_type": "code",
   "execution_count": 308,
   "metadata": {},
   "outputs": [
    {
     "name": "stdout",
     "output_type": "stream",
     "text": [
      "RMSE scores for each fold: [226.975152   220.18418373 217.72293361 211.13726116 187.37564512]\n",
      "Mean RMSE: 212.67903512489437\n"
     ]
    }
   ],
   "source": [
    "# Decision Tree Model\n",
    "pipeline = make_pipeline(DecisionTreeRegressor())\n",
    "\n",
    "# Perform 5 fold cross-validation\n",
    "scores = cross_val_score(pipeline, X_train, y_train, cv=5, scoring='neg_mean_squared_error')\n",
    "\n",
    "rmse_scores_dtree_dept_month = np.sqrt(-scores)\n",
    "\n",
    "# Print RMSE for each fold\n",
    "print(f\"RMSE scores for each fold: {rmse_scores_dtree_dept_month}\")\n",
    "# Print mean RMSE\n",
    "print(f\"Mean RMSE: {rmse_scores_dtree_dept_month.mean()}\")"
   ]
  },
  {
   "cell_type": "code",
   "execution_count": 309,
   "metadata": {},
   "outputs": [
    {
     "name": "stderr",
     "output_type": "stream",
     "text": [
      "/opt/anaconda3/envs/new/lib/python3.12/site-packages/xgboost/data.py:399: UserWarning: Sparse arrays from pandas are converted into dense.\n",
      "  warnings.warn(\"Sparse arrays from pandas are converted into dense.\")\n",
      "/opt/anaconda3/envs/new/lib/python3.12/site-packages/xgboost/data.py:399: UserWarning: Sparse arrays from pandas are converted into dense.\n",
      "  warnings.warn(\"Sparse arrays from pandas are converted into dense.\")\n",
      "/opt/anaconda3/envs/new/lib/python3.12/site-packages/xgboost/data.py:399: UserWarning: Sparse arrays from pandas are converted into dense.\n",
      "  warnings.warn(\"Sparse arrays from pandas are converted into dense.\")\n",
      "/opt/anaconda3/envs/new/lib/python3.12/site-packages/xgboost/data.py:399: UserWarning: Sparse arrays from pandas are converted into dense.\n",
      "  warnings.warn(\"Sparse arrays from pandas are converted into dense.\")\n",
      "/opt/anaconda3/envs/new/lib/python3.12/site-packages/xgboost/data.py:399: UserWarning: Sparse arrays from pandas are converted into dense.\n",
      "  warnings.warn(\"Sparse arrays from pandas are converted into dense.\")\n",
      "/opt/anaconda3/envs/new/lib/python3.12/site-packages/xgboost/data.py:399: UserWarning: Sparse arrays from pandas are converted into dense.\n",
      "  warnings.warn(\"Sparse arrays from pandas are converted into dense.\")\n",
      "/opt/anaconda3/envs/new/lib/python3.12/site-packages/xgboost/data.py:399: UserWarning: Sparse arrays from pandas are converted into dense.\n",
      "  warnings.warn(\"Sparse arrays from pandas are converted into dense.\")\n",
      "/opt/anaconda3/envs/new/lib/python3.12/site-packages/xgboost/data.py:399: UserWarning: Sparse arrays from pandas are converted into dense.\n",
      "  warnings.warn(\"Sparse arrays from pandas are converted into dense.\")\n",
      "/opt/anaconda3/envs/new/lib/python3.12/site-packages/xgboost/data.py:399: UserWarning: Sparse arrays from pandas are converted into dense.\n",
      "  warnings.warn(\"Sparse arrays from pandas are converted into dense.\")\n"
     ]
    },
    {
     "name": "stdout",
     "output_type": "stream",
     "text": [
      "RMSE scores for each fold: [125.39185066 132.35156042 100.38946619 125.88826581 119.07122671]\n",
      "Mean RMSE: 120.61847395906086\n"
     ]
    },
    {
     "name": "stderr",
     "output_type": "stream",
     "text": [
      "/opt/anaconda3/envs/new/lib/python3.12/site-packages/xgboost/data.py:399: UserWarning: Sparse arrays from pandas are converted into dense.\n",
      "  warnings.warn(\"Sparse arrays from pandas are converted into dense.\")\n"
     ]
    }
   ],
   "source": [
    "# XGboost\n",
    "pipeline = make_pipeline(XGBRegressor())\n",
    "\n",
    "# Perform 5 fold cross-validation\n",
    "scores = cross_val_score(pipeline, X_train, y_train, cv=5, scoring='neg_mean_squared_error')\n",
    "\n",
    "rmse_scores_xgboost_dept_month = np.sqrt(-scores)\n",
    "\n",
    "# Print RMSE for each fold\n",
    "print(f\"RMSE scores for each fold: {rmse_scores_xgboost_dept_month}\")\n",
    "# Print mean RMSE\n",
    "print(f\"Mean RMSE: {rmse_scores_xgboost_dept_month.mean()}\")"
   ]
  },
  {
   "cell_type": "markdown",
   "metadata": {},
   "source": [
    "### Consolidating RMSE"
   ]
  },
  {
   "cell_type": "code",
   "execution_count": 310,
   "metadata": {},
   "outputs": [
    {
     "data": {
      "text/html": [
       "<div>\n",
       "<style scoped>\n",
       "    .dataframe tbody tr th:only-of-type {\n",
       "        vertical-align: middle;\n",
       "    }\n",
       "\n",
       "    .dataframe tbody tr th {\n",
       "        vertical-align: top;\n",
       "    }\n",
       "\n",
       "    .dataframe thead th {\n",
       "        text-align: right;\n",
       "    }\n",
       "</style>\n",
       "<table border=\"1\" class=\"dataframe\">\n",
       "  <thead>\n",
       "    <tr style=\"text-align: right;\">\n",
       "      <th></th>\n",
       "      <th>Grouping</th>\n",
       "      <th>Type</th>\n",
       "      <th>Model</th>\n",
       "      <th>Mean RMSE</th>\n",
       "      <th>Better than Baseline</th>\n",
       "    </tr>\n",
       "  </thead>\n",
       "  <tbody>\n",
       "    <tr>\n",
       "      <th>0</th>\n",
       "      <td>Season</td>\n",
       "      <td>Neighborhood</td>\n",
       "      <td>Linear</td>\n",
       "      <td>17.083030</td>\n",
       "      <td>True</td>\n",
       "    </tr>\n",
       "    <tr>\n",
       "      <th>1</th>\n",
       "      <td>Season</td>\n",
       "      <td>Neighborhood</td>\n",
       "      <td>Decision Tree</td>\n",
       "      <td>28.616783</td>\n",
       "      <td>False</td>\n",
       "    </tr>\n",
       "    <tr>\n",
       "      <th>2</th>\n",
       "      <td>Season</td>\n",
       "      <td>Neighborhood</td>\n",
       "      <td>XGBoost</td>\n",
       "      <td>17.874128</td>\n",
       "      <td>True</td>\n",
       "    </tr>\n",
       "    <tr>\n",
       "      <th>3</th>\n",
       "      <td>Season</td>\n",
       "      <td>Department</td>\n",
       "      <td>Linear</td>\n",
       "      <td>289.719776</td>\n",
       "      <td>True</td>\n",
       "    </tr>\n",
       "    <tr>\n",
       "      <th>4</th>\n",
       "      <td>Season</td>\n",
       "      <td>Department</td>\n",
       "      <td>Decision Tree</td>\n",
       "      <td>625.804840</td>\n",
       "      <td>False</td>\n",
       "    </tr>\n",
       "    <tr>\n",
       "      <th>5</th>\n",
       "      <td>Season</td>\n",
       "      <td>Department</td>\n",
       "      <td>XGBoost</td>\n",
       "      <td>483.813160</td>\n",
       "      <td>False</td>\n",
       "    </tr>\n",
       "    <tr>\n",
       "      <th>6</th>\n",
       "      <td>Month</td>\n",
       "      <td>Neighborhood</td>\n",
       "      <td>Linear</td>\n",
       "      <td>109.157647</td>\n",
       "      <td>False</td>\n",
       "    </tr>\n",
       "    <tr>\n",
       "      <th>7</th>\n",
       "      <td>Month</td>\n",
       "      <td>Neighborhood</td>\n",
       "      <td>Decision Tree</td>\n",
       "      <td>212.679035</td>\n",
       "      <td>False</td>\n",
       "    </tr>\n",
       "    <tr>\n",
       "      <th>8</th>\n",
       "      <td>Month</td>\n",
       "      <td>Neighborhood</td>\n",
       "      <td>XGBoost</td>\n",
       "      <td>120.618474</td>\n",
       "      <td>False</td>\n",
       "    </tr>\n",
       "    <tr>\n",
       "      <th>9</th>\n",
       "      <td>Month</td>\n",
       "      <td>Department</td>\n",
       "      <td>Linear</td>\n",
       "      <td>109.157647</td>\n",
       "      <td>True</td>\n",
       "    </tr>\n",
       "    <tr>\n",
       "      <th>10</th>\n",
       "      <td>Month</td>\n",
       "      <td>Department</td>\n",
       "      <td>Decision Tree</td>\n",
       "      <td>212.679035</td>\n",
       "      <td>False</td>\n",
       "    </tr>\n",
       "    <tr>\n",
       "      <th>11</th>\n",
       "      <td>Month</td>\n",
       "      <td>Department</td>\n",
       "      <td>XGBoost</td>\n",
       "      <td>120.618474</td>\n",
       "      <td>True</td>\n",
       "    </tr>\n",
       "  </tbody>\n",
       "</table>\n",
       "</div>"
      ],
      "text/plain": [
       "   Grouping          Type          Model   Mean RMSE  Better than Baseline\n",
       "0    Season  Neighborhood         Linear   17.083030                  True\n",
       "1    Season  Neighborhood  Decision Tree   28.616783                 False\n",
       "2    Season  Neighborhood        XGBoost   17.874128                  True\n",
       "3    Season    Department         Linear  289.719776                  True\n",
       "4    Season    Department  Decision Tree  625.804840                 False\n",
       "5    Season    Department        XGBoost  483.813160                 False\n",
       "6     Month  Neighborhood         Linear  109.157647                 False\n",
       "7     Month  Neighborhood  Decision Tree  212.679035                 False\n",
       "8     Month  Neighborhood        XGBoost  120.618474                 False\n",
       "9     Month    Department         Linear  109.157647                  True\n",
       "10    Month    Department  Decision Tree  212.679035                 False\n",
       "11    Month    Department        XGBoost  120.618474                  True"
      ]
     },
     "execution_count": 310,
     "metadata": {},
     "output_type": "execute_result"
    }
   ],
   "source": [
    "# Comparing RMSE of different models\n",
    "rmse_scores = {\n",
    "    'Linear Neighborhood Season': rmse_scores_linear_neighborhood_season,\n",
    "    'Decision Tree Neighborhood Season': rmse_scores_dtree_neighborhood_season,\n",
    "    'XGBoost Neighborhood Season': rmse_scores_xgboost_neighborhood_season,\n",
    "    'Linear Department Season': rmse_scores_linear_dept_season,\n",
    "    'Decision Tree Department Season': rmse_scores_dtree_dept_season,\n",
    "    'XGBoost Department Season': rmse_scores_xgboost_dept_season,\n",
    "    'Linear Neighborhood Month': rmse_scores_linear_dept_month,\n",
    "    'Decision Tree Neighborhood Month': rmse_scores_dtree_dept_month,\n",
    "    'XGBoost Neighborhood Month': rmse_scores_xgboost_dept_month,\n",
    "    'Linear Department Month': rmse_scores_linear_dept_month,\n",
    "    'Decision Tree Department Month': rmse_scores_dtree_dept_month,\n",
    "    'XGBoost Department Month': rmse_scores_xgboost_dept_month\n",
    "}\n",
    "# Convert to DataFrame for better visualization\n",
    "rmse_df = pd.DataFrame(rmse_scores)\n",
    "# Calculate mean RMSE for each model\n",
    "mean_rmse = {key: np.mean(value) for key, value in rmse_scores.items()}\n",
    "# Create a DataFrame for better visualization\n",
    "rmse_summary = pd.DataFrame([\n",
    "    {'Grouping': 'Season', 'Type': 'Neighborhood', 'Model': 'Linear', 'Mean RMSE': mean_rmse['Linear Neighborhood Season'], 'Better than Baseline': mean_rmse['Linear Neighborhood Season'] < baseline_rmse_season_neighborhood},\n",
    "    {'Grouping': 'Season', 'Type': 'Neighborhood', 'Model': 'Decision Tree', 'Mean RMSE': mean_rmse['Decision Tree Neighborhood Season'], 'Better than Baseline': mean_rmse['Decision Tree Neighborhood Season'] < baseline_rmse_season_neighborhood},\n",
    "    {'Grouping': 'Season', 'Type': 'Neighborhood', 'Model': 'XGBoost', 'Mean RMSE': mean_rmse['XGBoost Neighborhood Season'], 'Better than Baseline': mean_rmse['XGBoost Neighborhood Season'] < baseline_rmse_season_neighborhood},\n",
    "    {'Grouping': 'Season', 'Type': 'Department', 'Model': 'Linear', 'Mean RMSE': mean_rmse['Linear Department Season'], 'Better than Baseline': mean_rmse['Linear Department Season'] < baseline_rmse_season_dept},\n",
    "    {'Grouping': 'Season', 'Type': 'Department', 'Model': 'Decision Tree', 'Mean RMSE': mean_rmse['Decision Tree Department Season'], 'Better than Baseline': mean_rmse['Decision Tree Department Season'] < baseline_rmse_season_dept},\n",
    "    {'Grouping': 'Season', 'Type': 'Department', 'Model': 'XGBoost', 'Mean RMSE': mean_rmse['XGBoost Department Season'], 'Better than Baseline': mean_rmse['XGBoost Department Season'] < baseline_rmse_season_dept},\n",
    "    {'Grouping': 'Month', 'Type': 'Neighborhood', 'Model': 'Linear', 'Mean RMSE': mean_rmse['Linear Neighborhood Month'], 'Better than Baseline': mean_rmse['Linear Neighborhood Month'] < baseline_rmse_month_neighborhood},\n",
    "    {'Grouping': 'Month', 'Type': 'Neighborhood', 'Model': 'Decision Tree', 'Mean RMSE': mean_rmse['Decision Tree Neighborhood Month'], 'Better than Baseline': mean_rmse['Decision Tree Neighborhood Month'] < baseline_rmse_month_neighborhood},\n",
    "    {'Grouping': 'Month', 'Type': 'Neighborhood', 'Model': 'XGBoost', 'Mean RMSE': mean_rmse['XGBoost Neighborhood Month'], 'Better than Baseline': mean_rmse['XGBoost Neighborhood Month'] < baseline_rmse_month_neighborhood},\n",
    "    {'Grouping': 'Month', 'Type': 'Department', 'Model': 'Linear', 'Mean RMSE': mean_rmse['Linear Department Month'], 'Better than Baseline': mean_rmse['Linear Department Month'] < baseline_rmse_month_dept},\n",
    "    {'Grouping': 'Month', 'Type': 'Department', 'Model': 'Decision Tree', 'Mean RMSE': mean_rmse['Decision Tree Department Month'], 'Better than Baseline': mean_rmse['Decision Tree Department Month'] < baseline_rmse_month_dept},\n",
    "    {'Grouping': 'Month', 'Type': 'Department', 'Model': 'XGBoost', 'Mean RMSE': mean_rmse['XGBoost Department Month'], 'Better than Baseline': mean_rmse['XGBoost Department Month'] < baseline_rmse_month_dept}\n",
    "])\n",
    "\n",
    "rmse_summary"
   ]
  }
 ],
 "metadata": {
  "kernelspec": {
   "display_name": "new",
   "language": "python",
   "name": "python3"
  },
  "language_info": {
   "codemirror_mode": {
    "name": "ipython",
    "version": 3
   },
   "file_extension": ".py",
   "mimetype": "text/x-python",
   "name": "python",
   "nbconvert_exporter": "python",
   "pygments_lexer": "ipython3",
   "version": "3.12.8"
  }
 },
 "nbformat": 4,
 "nbformat_minor": 2
}
