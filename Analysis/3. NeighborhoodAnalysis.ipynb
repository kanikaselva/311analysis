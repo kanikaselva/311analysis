{
 "cells": [
  {
   "cell_type": "markdown",
   "id": "f82e9932-627f-4329-a59c-f18068040e11",
   "metadata": {},
   "source": [
    "## Analyzing Trends Across Neighborhoods to Identify Underlying Factors\n",
    "\n",
    "### Leverage unsupervised learning methods to uncover hidden patterns in the 311 data and compare it with Pittsburgh’s neighborhood data. By analyzing trends across neighborhoods and incorporating additional factors such as demographics, infrastructure, and local conditions, we can identify the root causes of varying closure times and call volumes.\n",
    "\n"
   ]
  },
  {
   "cell_type": "code",
   "execution_count": 2,
   "id": "be858e7d-bec0-45b5-b0f4-d169cf73cd38",
   "metadata": {},
   "outputs": [],
   "source": [
    "import pandas as pd"
   ]
  },
  {
   "cell_type": "markdown",
   "id": "5616e216-93ff-4adf-b8ee-638fd2b0f358",
   "metadata": {},
   "source": [
    "### Clean neighborhood data \n",
    "\n",
    "https://data.wprdc.org/dataset/2020-census-redistricting-data-extracts/resource/a8414ed5-c50f-417e-bb67-82b734660da6"
   ]
  },
  {
   "cell_type": "code",
   "execution_count": 3,
   "id": "5010ab8e-e929-41d8-a82f-76f06076e9ac",
   "metadata": {},
   "outputs": [],
   "source": [
    "# Read in neighborhood data\n",
    "\n",
    "neighborhoods = pd.read_csv('../Data/2020Census_Neighborhood_Dataset.csv')"
   ]
  },
  {
   "cell_type": "code",
   "execution_count": 4,
   "id": "38f2899e-ab75-47fe-a476-d0b6757dfdc0",
   "metadata": {},
   "outputs": [],
   "source": [
    "#neighborhoods"
   ]
  },
  {
   "cell_type": "code",
   "execution_count": 5,
   "id": "93faa320-18a1-4d0c-b48e-670f86d743de",
   "metadata": {},
   "outputs": [],
   "source": [
    "# Removing columns from 2010 and that are comparisons between 2020 and 2010\n",
    "\n",
    "to_drop = neighborhoods.columns[neighborhoods.columns.str.startswith(('2010', 'Change'))]\n",
    "neighborhoods.drop(to_drop, axis=1, inplace=True)"
   ]
  },
  {
   "cell_type": "code",
   "execution_count": 6,
   "id": "2ddfb7a4-d6d4-4857-b661-c5927fcd41aa",
   "metadata": {},
   "outputs": [],
   "source": [
    "#neighborhoods"
   ]
  },
  {
   "cell_type": "code",
   "execution_count": 7,
   "id": "afdb2324-abf7-460e-8853-21f928adfc37",
   "metadata": {},
   "outputs": [
    {
     "data": {
      "text/plain": [
       "np.int64(302971)"
      ]
     },
     "execution_count": 7,
     "metadata": {},
     "output_type": "execute_result"
    }
   ],
   "source": [
    "# Sanity check = PGH population, per Google, was just under 300k in 2020\n",
    "\n",
    "neighborhoods['2020_Total_Population'].sum()\n",
    "# Outputs 302971 - okay"
   ]
  },
  {
   "cell_type": "code",
   "execution_count": 8,
   "id": "e0d8fc5b-5e83-443d-a605-9b12c78a1b9e",
   "metadata": {},
   "outputs": [],
   "source": [
    "# Changing Neighborhood column capitalization to make merging easier\n",
    "\n",
    "neighborhoods = neighborhoods.rename(columns = {'Neighborhood': 'neighborhood'})"
   ]
  },
  {
   "cell_type": "markdown",
   "id": "d1545499-550a-4655-9ceb-f050029222f2",
   "metadata": {},
   "source": [
    "### Combine neighborhood data with existing DataFrame"
   ]
  },
  {
   "cell_type": "code",
   "execution_count": 9,
   "id": "ff946a37-d7b8-439a-8f03-521f18a611c4",
   "metadata": {},
   "outputs": [],
   "source": [
    "# Read in existing data\n",
    "\n",
    "df = pd.read_csv('../Data/CleanedData_311_Dataset.csv')"
   ]
  },
  {
   "cell_type": "code",
   "execution_count": 10,
   "id": "da0ab934-303b-4fd2-b65b-9548713ec84e",
   "metadata": {
    "scrolled": true
   },
   "outputs": [],
   "source": [
    "# Find which neighborhoods are in existing data\n",
    "\n",
    "#df['neighborhood'].unique()"
   ]
  },
  {
   "cell_type": "code",
   "execution_count": 11,
   "id": "78336537-9720-4771-abce-add03a7cc7bd",
   "metadata": {},
   "outputs": [],
   "source": [
    "# Find if all neighborhoods are present in census data\n",
    "\n",
    "a = df['neighborhood'].unique()\n",
    "b = neighborhoods['neighborhood'].unique()\n",
    "\n",
    "diff = [i for i in a if i not in b]\n",
    "#diff"
   ]
  },
  {
   "cell_type": "code",
   "execution_count": 12,
   "id": "aa3448eb-809f-4944-b236-fe9eb7940d43",
   "metadata": {},
   "outputs": [],
   "source": [
    "# Changes in dataset -> census data\n",
    "\n",
    "# Central Business District -> Central Business District (Downtown)\n",
    "# Spring Hill-City View -> \tSpring Hill-City\n",
    "# Mount Oliver Borough -> Mt. Oliver\n",
    "# Arlington -> Arlington - Arlington Heights (Combined)\n",
    "# Arlington Heights -> \tArlington - Arlington Heights (Combined)\n",
    "\n",
    "recode_nbhds = {'Central Business District': 'Central Business District (Downtown)', 'Spring Hill-City View': 'Spring Hill-City',\n",
    "                'Mount Oliver Borough': 'Mt. Oliver', 'Arlington': 'Arlington - Arlington Heights (Combined)',\n",
    "                'Arlington Heights': 'Arlington - Arlington Heights (Combined)'}"
   ]
  },
  {
   "cell_type": "code",
   "execution_count": 13,
   "id": "9bb1fe6c-1fa5-462a-9f4a-7c7024d60949",
   "metadata": {},
   "outputs": [],
   "source": [
    "# Making changes to original DataFrame to combine neighborhood data\n",
    "\n",
    "df['neighborhood'] = df['neighborhood'].replace(recode_nbhds)"
   ]
  },
  {
   "cell_type": "code",
   "execution_count": 14,
   "id": "fd8184aa-e41f-4e00-a3dc-1dac5f5907bd",
   "metadata": {},
   "outputs": [],
   "source": [
    "#df['neighborhood'].unique()"
   ]
  },
  {
   "cell_type": "code",
   "execution_count": 15,
   "id": "371c6eb8-050e-453c-b33f-c407f2d246fa",
   "metadata": {},
   "outputs": [],
   "source": [
    "# Merging both DataFrams on neighborhood columns\n",
    "\n",
    "combineddf = pd.merge(df, neighborhoods, how = 'left', on = 'neighborhood')"
   ]
  },
  {
   "cell_type": "code",
   "execution_count": 16,
   "id": "3f4210de-43c5-4c3f-b63a-6e7b4ade1bb8",
   "metadata": {},
   "outputs": [],
   "source": [
    "#combineddf"
   ]
  }
 ],
 "metadata": {
  "kernelspec": {
   "display_name": "new",
   "language": "python",
   "name": "python3"
  },
  "language_info": {
   "codemirror_mode": {
    "name": "ipython",
    "version": 3
   },
   "file_extension": ".py",
   "mimetype": "text/x-python",
   "name": "python",
   "nbconvert_exporter": "python",
   "pygments_lexer": "ipython3",
   "version": "3.12.8"
  }
 },
 "nbformat": 4,
 "nbformat_minor": 5
}
